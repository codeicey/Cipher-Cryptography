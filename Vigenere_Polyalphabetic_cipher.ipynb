{
  "nbformat": 4,
  "nbformat_minor": 0,
  "metadata": {
    "colab": {
      "name": "Vigenere/Polyalphabetic cipher.ipynb",
      "provenance": [],
      "collapsed_sections": [],
      "authorship_tag": "ABX9TyMvHRFPJcf6+C5eOLnCNHMM",
      "include_colab_link": true
    },
    "kernelspec": {
      "name": "python3",
      "display_name": "Python 3"
    }
  },
  "cells": [
    {
      "cell_type": "markdown",
      "metadata": {
        "id": "view-in-github",
        "colab_type": "text"
      },
      "source": [
        "<a href=\"https://colab.research.google.com/github/madhukar123456/Cipher-Cryptography/blob/main/Vigenere_Polyalphabetic_cipher.ipynb\" target=\"_parent\"><img src=\"https://colab.research.google.com/assets/colab-badge.svg\" alt=\"Open In Colab\"/></a>"
      ]
    },
    {
      "cell_type": "markdown",
      "metadata": {
        "id": "rNS6TmG0uRqX"
      },
      "source": [
        "#Code to implement Vigenere/Polyalphabetic cipher\n",
        "\n",
        "Plaintext: meet me at the toga party\n",
        "\n",
        "Key: cipher\n",
        "\n",
        "Encryption: For every plaintext character:\n",
        "1. Convert the character to corresponding number and add cipher number,\n",
        "2. `C=(X+K) mod 26`,\n",
        "3. Convert back the number to the corresponding character,\n",
        "\n",
        "Decryption:\n",
        "\n",
        "`P = (Y-K) mod 26`"
      ]
    },
    {
      "cell_type": "code",
      "metadata": {
        "colab": {
          "base_uri": "https://localhost:8080/"
        },
        "id": "JeTqri2Zq2Zh",
        "outputId": "540f8de4-fa9b-4c87-b702-d795d1d5cd7e"
      },
      "source": [
        "# Enter string and cipher\n",
        "plaintext = input(\"Enter your string: \").replace(\" \",\"\") # Input string, remove spaces\n",
        "key = \"cipher\"                                           # Cipher key\n",
        "plaintext = plaintext.lower()                            # Converting into lower case\n",
        "print(\"plaintext:\",plaintext,\"\\nkey: \", key)\n"
      ],
      "execution_count": null,
      "outputs": [
        {
          "output_type": "stream",
          "text": [
            "Enter your string: meet me at the toga party\n",
            "plaintext: meetmeatthetogaparty \n",
            "key:  cipher\n"
          ],
          "name": "stdout"
        }
      ]
    },
    {
      "cell_type": "markdown",
      "metadata": {
        "id": "7UdhW6k8uTi-"
      },
      "source": [
        "## Encryption"
      ]
    },
    {
      "cell_type": "code",
      "metadata": {
        "colab": {
          "base_uri": "https://localhost:8080/"
        },
        "id": "6m5XDWQludws",
        "outputId": "9eefa926-752d-4344-e1b7-e608f5a41557"
      },
      "source": [
        "d=0\n",
        "final=\"\"\n",
        "for x in plaintext:                           \n",
        "  cyphernum = ((ord(x)-97)+(ord(key[d]))-97)%26  # Using C=(X+K) mod 26                                                 \n",
        "  d=d+1                                          # ord finds ASCII number\n",
        "  if d==len(key):\n",
        "    d=0                                          # reset key counter\n",
        "  final=final+chr(cyphernum+97)                  # chr finds ASCII value  \n",
        "print(\"Encrypted text: \", final)"
      ],
      "execution_count": null,
      "outputs": [
        {
          "output_type": "stream",
          "text": [
            "Encrypted text:  omtaqvcbioikqopweivg\n"
          ],
          "name": "stdout"
        }
      ]
    },
    {
      "cell_type": "code",
      "metadata": {
        "colab": {
          "base_uri": "https://localhost:8080/"
        },
        "id": "41Bk01zPxwql",
        "outputId": "9d2d993e-173b-43cc-a475-b290e06c6e2a"
      },
      "source": [
        "# Visualization of Encryption\n",
        "d=0\n",
        "a=[]\n",
        "b=[]\n",
        "c=[]\n",
        "print(\"Visualizing the plaintext and cipher :\\n\")\n",
        "print(plaintext)\n",
        "for x in plaintext:\n",
        "  a.append((ord(x)-97))\n",
        "  b.append((ord(key[d])-97))\n",
        "  d=d+1\n",
        "  if d==len(key):\n",
        "    d=0  \n",
        "print(a[:len(plaintext)])\n",
        "\n",
        "# Visualizing cipher\n",
        "d=0\n",
        "for x in plaintext:\n",
        "  c.append(chr(ord(key[d])))\n",
        "  d=d+1\n",
        "  if d==len(key):\n",
        "    d=0\n",
        "print(c[:len(plaintext)])\n",
        "print(b[:len(plaintext)])\n",
        "print(final)"
      ],
      "execution_count": null,
      "outputs": [
        {
          "output_type": "stream",
          "text": [
            "Visualizing the plaintext and cipher :\n",
            "\n",
            "meetmeatthetogaparty\n",
            "[12, 4, 4, 19, 12, 4, 0, 19, 19, 7, 4, 19, 14, 6, 0, 15, 0, 17, 19, 24]\n",
            "['c', 'i', 'p', 'h', 'e', 'r', 'c', 'i', 'p', 'h', 'e', 'r', 'c', 'i', 'p', 'h', 'e', 'r', 'c', 'i']\n",
            "[2, 8, 15, 7, 4, 17, 2, 8, 15, 7, 4, 17, 2, 8, 15, 7, 4, 17, 2, 8]\n",
            "omtaqvcbioikqopweivg\n"
          ],
          "name": "stdout"
        }
      ]
    },
    {
      "cell_type": "markdown",
      "metadata": {
        "id": "t_xLdjbXuWaV"
      },
      "source": [
        "## Decryption"
      ]
    },
    {
      "cell_type": "code",
      "metadata": {
        "colab": {
          "base_uri": "https://localhost:8080/"
        },
        "id": "0GT2C4o-rJI6",
        "outputId": "c04eb1db-26d0-4825-862d-d9292aa7d289"
      },
      "source": [
        "d=0\n",
        "final2=\"\"\n",
        "for x in final:\n",
        "  cyphernum = ((ord(x)-97)-(ord(key[d])-97))%26     # Using P=(Y-K) mod 26\n",
        "  d=d+1\n",
        "  if d==len(key):\n",
        "    d=0\n",
        "  final2=final2+chr(cyphernum+97)\n",
        "print(\"Decrypted text: \", final2)"
      ],
      "execution_count": null,
      "outputs": [
        {
          "output_type": "stream",
          "text": [
            "Decrypted text:  meetmeatthetogaparty\n"
          ],
          "name": "stdout"
        }
      ]
    }
  ]
}