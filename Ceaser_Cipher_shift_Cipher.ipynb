{
  "nbformat": 4,
  "nbformat_minor": 0,
  "metadata": {
    "colab": {
      "name": "Ceaser Cipher/shift Cipher.ipynb",
      "provenance": [],
      "collapsed_sections": [],
      "authorship_tag": "ABX9TyPll9b8W5qteAILNucLynYy",
      "include_colab_link": true
    },
    "kernelspec": {
      "name": "python3",
      "display_name": "Python 3"
    }
  },
  "cells": [
    {
      "cell_type": "markdown",
      "metadata": {
        "id": "view-in-github",
        "colab_type": "text"
      },
      "source": [
        "<a href=\"https://colab.research.google.com/github/madhukar123456/Cipher-Cryptography/blob/main/Ceaser_Cipher_shift_Cipher.ipynb\" target=\"_parent\"><img src=\"https://colab.research.google.com/assets/colab-badge.svg\" alt=\"Open In Colab\"/></a>"
      ]
    },
    {
      "cell_type": "markdown",
      "metadata": {
        "id": "B1-oqUy1hfJi"
      },
      "source": [
        "#Code to implement Ceaser Cipher/shift Cipher\n",
        "\n",
        "a b c d e f g h i j k l m n o p q r s t u v w x y z\n",
        "\n",
        "0 1 2 3 4 5 6 7 8 9 10 11 12 13 14 15 16 17 18 19 20 21 22 23 24 25\n",
        "\n",
        "Plaintext: Hello\n",
        "\n",
        "Key: 3\n",
        "\n",
        "Ciphertext: KHOOR\n",
        "\n",
        "Encryption:\n",
        "For every plaintext character:\n",
        "1. Convert the character to corresponding number, called X,\n",
        "2. `C=(X+K) mod 26`,\n",
        "3. Convert back the number to the corresponding character,\n",
        "\n",
        "Decryption:\n",
        "\n",
        "`P = (Y-K) mod 26`"
      ]
    },
    {
      "cell_type": "code",
      "metadata": {
        "colab": {
          "base_uri": "https://localhost:8080/"
        },
        "id": "3v1-qW4Ijy60",
        "outputId": "63728b46-f0bd-4fe2-c184-9371214387f1"
      },
      "source": [
        "plaintext = input(\"Enter your string: \").replace(\" \",\"\") # Input string from user\n",
        "key = 4                                 # Cipher Key = 3\n",
        "plaintext = plaintext.lower()           # Converting plaintext into lower case\n",
        "print(\"plaintext:\",plaintext,\"\\nkey: \", key)\n"
      ],
      "execution_count": null,
      "outputs": [
        {
          "output_type": "stream",
          "text": [
            "Enter your string: heoalaomgal;nhpainhfb'olknaoi;gbhn\n",
            "plaintext: heoalaomgal;nhpainhfb'olknaoi;gbhn \n",
            "key:  4\n"
          ],
          "name": "stdout"
        }
      ]
    },
    {
      "cell_type": "markdown",
      "metadata": {
        "id": "PsLORHVwzh2r"
      },
      "source": [
        "## Encryption"
      ]
    },
    {
      "cell_type": "code",
      "metadata": {
        "colab": {
          "base_uri": "https://localhost:8080/"
        },
        "id": "TeoXKxFh4Lom",
        "outputId": "ff8e16b6-2ac4-4c54-b261-2db5e61eeadd"
      },
      "source": [
        "c=0\n",
        "final=\"\"\n",
        "for x in plaintext:                           \n",
        " cyphernum = ((ord(plaintext[c])-97)+key)%26 # Using C=(X+K) mod 26\n",
        "c=c+1                                       # ord finds ASCII number of letter\n",
        "   final=final+chr(cyphernum+97)               # chr finds ASCII value of number  \n",
        "  print(\"Encrypted text: \", final)"
      ],
      "execution_count": null,
      "outputs": [
        {
          "output_type": "stream",
          "text": [
            "Encrypted text:  heoalaomgalonhpainhfbuolknaoiogbhn\n",
            "Encrypted text:  ifpbmbpnhbmpoiqbjoigcvpmlobpjphcio\n",
            "Encrypted text:  jgqcncqoicnqpjrckpjhdwqnmpcqkqidjp\n",
            "Encrypted text:  khrdodrpjdorqksdlqkiexronqdrlrjekq\n",
            "Encrypted text:  lisepesqkepsrltemrljfysporesmskflr\n",
            "Encrypted text:  mjtfqftrlfqtsmufnsmkgztqpsftntlgms\n",
            "Encrypted text:  nkugrgusmgrutnvgotnlhaurqtguoumhnt\n",
            "Encrypted text:  olvhshvtnhsvuowhpuomibvsruhvpvniou\n",
            "Encrypted text:  pmwitiwuoitwvpxiqvpnjcwtsviwqwojpv\n",
            "Encrypted text:  qnxjujxvpjuxwqyjrwqokdxutwjxrxpkqw\n",
            "Encrypted text:  roykvkywqkvyxrzksxrpleyvuxkysyqlrx\n",
            "Encrypted text:  spzlwlzxrlwzysaltysqmfzwvylztzrmsy\n",
            "Encrypted text:  tqamxmaysmxaztbmuztrngaxwzmauasntz\n",
            "Encrypted text:  urbnynbztnybaucnvausohbyxanbvbtoua\n",
            "Encrypted text:  vscozocauozcbvdowbvtpiczybocwcupvb\n",
            "Encrypted text:  wtdpapdbvpadcwepxcwuqjdazcpdxdvqwc\n",
            "Encrypted text:  xueqbqecwqbedxfqydxvrkebadqeyewrxd\n",
            "Encrypted text:  yvfrcrfdxrcfeygrzeywslfcberfzfxsye\n",
            "Encrypted text:  zwgsdsgeysdgfzhsafzxtmgdcfsgagytzf\n",
            "Encrypted text:  axhtethfztehgaitbgayunhedgthbhzuag\n",
            "Encrypted text:  byiufuigaufihbjuchbzvoifehuiciavbh\n",
            "Encrypted text:  czjvgvjhbvgjickvdicawpjgfivjdjbwci\n",
            "Encrypted text:  dakwhwkicwhkjdlwejdbxqkhgjwkekcxdj\n",
            "Encrypted text:  eblxixljdxilkemxfkecyrlihkxlfldyek\n",
            "Encrypted text:  fcmyjymkeyjmlfnyglfdzsmjilymgmezfl\n",
            "Encrypted text:  gdnzkznlfzknmgozhmgeatnkjmznhnfagm\n"
          ],
          "name": "stdout"
        }
      ]
    },
    {
      "cell_type": "markdown",
      "metadata": {
        "id": "tTK--VejzsBc"
      },
      "source": [
        "## Decryption"
      ]
    },
    {
      "cell_type": "code",
      "metadata": {
        "id": "Y1fu2UzKztZv",
        "colab": {
          "base_uri": "https://localhost:8080/"
        },
        "outputId": "968d60dc-6ddd-4fae-bc06-4a56f3c84e9a"
      },
      "source": [
        "c=0\n",
        "final2=\"\"\n",
        "for x in final:\n",
        "  cyphernum = ((ord(final[c])-97)-key)%26     # Using P=(Y-K) mod 26Tre\n",
        "  c=c+1\n",
        "  final2=final2+chr(cyphernum+97)\n",
        "print(\"Decrypted text: \", final2)"
      ],
      "execution_count": null,
      "outputs": [
        {
          "output_type": "stream",
          "text": [
            "Decrypted text:  hello\n"
          ],
          "name": "stdout"
        }
      ]
    }
  ]
}