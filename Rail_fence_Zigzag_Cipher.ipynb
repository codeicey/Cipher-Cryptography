{
  "nbformat": 4,
  "nbformat_minor": 0,
  "metadata": {
    "colab": {
      "name": "Rail fence/Zigzag Cipher.ipynb",
      "provenance": [],
      "authorship_tag": "ABX9TyP+C5FlcjPUOCw1k6bj6AMV",
      "include_colab_link": true
    },
    "kernelspec": {
      "name": "python3",
      "display_name": "Python 3"
    }
  },
  "cells": [
    {
      "cell_type": "markdown",
      "metadata": {
        "id": "view-in-github",
        "colab_type": "text"
      },
      "source": [
        "<a href=\"https://colab.research.google.com/github/madhukar123456/Cipher-Cryptography/blob/main/Rail_fence_Zigzag_Cipher.ipynb\" target=\"_parent\"><img src=\"https://colab.research.google.com/assets/colab-badge.svg\" alt=\"Open In Colab\"/></a>"
      ]
    },
    {
      "cell_type": "markdown",
      "metadata": {
        "id": "xMGzSfUj8PPm"
      },
      "source": [
        "#Code to implement Rail fence/Zigzag Cipher\n",
        "\n",
        "`[['H' '' '' '' 'o' '' '' '' 'r' '' '' '']`\n",
        "\n",
        " `['' 'e' '' 'l' '' ' ' '' 'o' '' 'l' '' '!']`\n",
        "\n",
        " `['' '' 'l' '' '' '' 'W' '' '' '' 'd' '']]`\n",
        "\n",
        "\n",
        "Encrypted text: Horel ol!lWd\n"
      ]
    },
    {
      "cell_type": "markdown",
      "metadata": {
        "id": "jjzRIuuATp5r"
      },
      "source": [
        "## Encryption"
      ]
    },
    {
      "cell_type": "code",
      "metadata": {
        "colab": {
          "base_uri": "https://localhost:8080/"
        },
        "id": "ieDJAsaqDs3w",
        "outputId": "a798b8f1-258f-4fd7-f900-09a924b09db0"
      },
      "source": [
        "plaintext= input(\"Enter a string: \")   # Input string from user\n",
        "c=0                                    # c and d are for iterations\n",
        "d=0\n",
        "key = 3                                # zizag cipher key is assigned\n",
        "\n",
        "rows,cols = (key,len(plaintext))       # rows and columns of array\n",
        "arr=[] \n",
        "\n",
        "#Making the zigzag array\n",
        "for x in range(0,len(plaintext)):\n",
        " #print(c)\n",
        " col = [] \n",
        " for j in range(rows):\n",
        "  #print(x,j) \n",
        "  if j==c:\n",
        "   #print(x,plaintext[x:(x+1)])\n",
        "   col.append(plaintext[x:(x+1)])      # append adds element to list\n",
        "  else:\n",
        "   col.append('')\n",
        " arr.append(col)  \n",
        "\n",
        "#Key iterator for zigzag pattern\n",
        " if c==0:\n",
        "  d=0\n",
        " elif c==(key-1):\n",
        "  d=key-1\n",
        " if d==0:\n",
        "  c=c+1\n",
        " elif d==(key-1):\n",
        "  c=c-1\n",
        "\n",
        "import numpy as np                     # imported numpy library \n",
        "arr = np.transpose(arr)                # transposed matrix from numpy\n",
        "print(arr)"
      ],
      "execution_count": null,
      "outputs": [
        {
          "output_type": "stream",
          "text": [
            "Enter a string: Lorem Ipsum!\n",
            "[['L' '' '' '' 'm' '' '' '' 's' '' '' '']\n",
            " ['' 'o' '' 'e' '' ' ' '' 'p' '' 'u' '' '!']\n",
            " ['' '' 'r' '' '' '' 'I' '' '' '' 'm' '']]\n"
          ],
          "name": "stdout"
        }
      ]
    },
    {
      "cell_type": "code",
      "metadata": {
        "colab": {
          "base_uri": "https://localhost:8080/"
        },
        "id": "i2ueHGQDNS_v",
        "outputId": "385e649c-4e6c-4022-b465-c2e8797d59f9"
      },
      "source": [
        "# For printing encrypted text\n",
        "enc = \"\"\n",
        "for x in range(0,rows):\n",
        " for j in range(len(plaintext)):\n",
        "  if arr[x][j]!='':\n",
        "   enc = enc+arr[x][j]\n",
        "print(\"Encrypted text:   \",enc)"
      ],
      "execution_count": null,
      "outputs": [
        {
          "output_type": "stream",
          "text": [
            "Encrypted text:    Lmsoe pu!rIm\n"
          ],
          "name": "stdout"
        }
      ]
    },
    {
      "cell_type": "markdown",
      "metadata": {
        "id": "cNLCACevVE_N"
      },
      "source": [
        "## Decryption"
      ]
    },
    {
      "cell_type": "code",
      "metadata": {
        "colab": {
          "base_uri": "https://localhost:8080/"
        },
        "id": "PH2M7PA3Uln2",
        "outputId": "ca626db1-8f57-41ba-8f0c-c22189ff2cbd"
      },
      "source": [
        "# Decryption is done based on encrypted text and key only\n",
        "print(\"Encrypted text:  \",enc,\"      Key:    \", key)"
      ],
      "execution_count": null,
      "outputs": [
        {
          "output_type": "stream",
          "text": [
            "Encrypted text:   Lmsoe pu!rIm       Key:     3\n"
          ],
          "name": "stdout"
        }
      ]
    },
    {
      "cell_type": "code",
      "metadata": {
        "colab": {
          "base_uri": "https://localhost:8080/"
        },
        "id": "o_Jddbs1Yi6I",
        "outputId": "ec82a9d5-08f7-4bca-a950-7fd117979bb1"
      },
      "source": [
        "# First, key is used to assume a zizag pattern array and then it is transposed\n",
        "c=0\n",
        "d=0\n",
        "\n",
        "rows,cols = (key,len(enc)) \n",
        "arr2=[] \n",
        "\n",
        "#Making the zigzag array\n",
        "for x in range(0,len(enc)):\n",
        " #print(c)\n",
        " col2 = [] \n",
        " for j in range(rows):\n",
        "  #print(x,j) \n",
        "  if j==c:\n",
        "   #print(x,enc[x:(x+1)])\n",
        "   col2.append(0)\n",
        "  else:\n",
        "   col2.append('')\n",
        " arr2.append(col2)  \n",
        "\n",
        "#Key iterator for zigzag pattern\n",
        " if c==0:\n",
        "  d=0\n",
        " elif c==(key-1):\n",
        "  d=key-1\n",
        " if d==0:\n",
        "  c=c+1\n",
        " elif d==(key-1):\n",
        "  c=c-1\n",
        "\n",
        "import numpy as np\n",
        "arr2=np.transpose(arr2)\n",
        "print(arr2)"
      ],
      "execution_count": null,
      "outputs": [
        {
          "output_type": "stream",
          "text": [
            "[['0' '' '' '' '0' '' '' '' '0' '' '' '']\n",
            " ['' '0' '' '0' '' '0' '' '0' '' '0' '' '0']\n",
            " ['' '' '0' '' '' '' '0' '' '' '' '0' '']]\n"
          ],
          "name": "stdout"
        }
      ]
    },
    {
      "cell_type": "code",
      "metadata": {
        "colab": {
          "base_uri": "https://localhost:8080/"
        },
        "id": "Br1vxLUSg0a-",
        "outputId": "72c6498a-e3e9-48a3-c217-b4bcf100ee50"
      },
      "source": [
        "# For finding decryption matrix on the assumed matrix format\n",
        "c=0\n",
        "arr3=[]\n",
        "for x in range(0,rows):\n",
        " col3 = []\n",
        " for j in range(len(enc)):\n",
        "  if arr2[x][j]!='':\n",
        "   col3.append(enc[c:(c+1)])\n",
        "   c=c+1\n",
        "  else:\n",
        "   col3.append('')\n",
        " arr3.append(col3)\n",
        " \n",
        "   #print(arr2[x][j],enc[x:(x+1)])\n",
        "print(np.matrix(arr3),'\\n')\n",
        "arr3=np.transpose(arr3)\n",
        "print(arr3)"
      ],
      "execution_count": null,
      "outputs": [
        {
          "output_type": "stream",
          "text": [
            "[['L' '' '' '' 'm' '' '' '' 's' '' '' '']\n",
            " ['' 'o' '' 'e' '' ' ' '' 'p' '' 'u' '' '!']\n",
            " ['' '' 'r' '' '' '' 'I' '' '' '' 'm' '']] \n",
            "\n",
            "[['L' '' '']\n",
            " ['' 'o' '']\n",
            " ['' '' 'r']\n",
            " ['' 'e' '']\n",
            " ['m' '' '']\n",
            " ['' ' ' '']\n",
            " ['' '' 'I']\n",
            " ['' 'p' '']\n",
            " ['s' '' '']\n",
            " ['' 'u' '']\n",
            " ['' '' 'm']\n",
            " ['' '!' '']]\n"
          ],
          "name": "stdout"
        }
      ]
    },
    {
      "cell_type": "code",
      "metadata": {
        "colab": {
          "base_uri": "https://localhost:8080/"
        },
        "id": "dwwbloUizPs-",
        "outputId": "c00aaee9-9812-4d9e-8205-a56eadf18833"
      },
      "source": [
        "# For printing decrypted text from the decryption matrix\n",
        "dec = \"\"\n",
        "for x in range(0,len(enc)):\n",
        " col3 = []\n",
        " for j in range(rows):\n",
        "  if arr3[x][j]!='':\n",
        "   dec=dec+arr3[x][j]\n",
        "print(\"Decrypted text:\", dec)"
      ],
      "execution_count": null,
      "outputs": [
        {
          "output_type": "stream",
          "text": [
            "Decrypted text: Lorem Ipsum!\n"
          ],
          "name": "stdout"
        }
      ]
    }
  ]
}